{
 "cells": [
  {
   "cell_type": "markdown",
   "metadata": {},
   "source": [
    "# 19B-076-SE"
   ]
  },
  {
   "cell_type": "markdown",
   "metadata": {},
   "source": [
    "PRACTICE PROBLEMS"
   ]
  },
  {
   "cell_type": "code",
   "execution_count": 1,
   "metadata": {},
   "outputs": [
    {
     "data": {
      "text/plain": [
       "'234'"
      ]
     },
     "execution_count": 1,
     "metadata": {},
     "output_type": "execute_result"
    }
   ],
   "source": [
    "#1\n",
    "s = '0123456789'\n",
    "#(a)\n",
    "s[2:5]"
   ]
  },
  {
   "cell_type": "code",
   "execution_count": 2,
   "metadata": {},
   "outputs": [
    {
     "data": {
      "text/plain": [
       "'78'"
      ]
     },
     "execution_count": 2,
     "metadata": {},
     "output_type": "execute_result"
    }
   ],
   "source": [
    "#1(b)\n",
    "s[-3:-1]"
   ]
  },
  {
   "cell_type": "code",
   "execution_count": 3,
   "metadata": {},
   "outputs": [
    {
     "data": {
      "text/plain": [
       "'1234567'"
      ]
     },
     "execution_count": 3,
     "metadata": {},
     "output_type": "execute_result"
    }
   ],
   "source": [
    "#1(c)\n",
    "s[1:8]"
   ]
  },
  {
   "cell_type": "code",
   "execution_count": 4,
   "metadata": {},
   "outputs": [
    {
     "data": {
      "text/plain": [
       "'0123'"
      ]
     },
     "execution_count": 4,
     "metadata": {},
     "output_type": "execute_result"
    }
   ],
   "source": [
    "#1(d)\n",
    "s[:4]"
   ]
  },
  {
   "cell_type": "code",
   "execution_count": 5,
   "metadata": {},
   "outputs": [
    {
     "data": {
      "text/plain": [
       "'789'"
      ]
     },
     "execution_count": 5,
     "metadata": {},
     "output_type": "execute_result"
    }
   ],
   "source": [
    "#1(e)\n",
    "s[-3:]"
   ]
  },
  {
   "cell_type": "code",
   "execution_count": 6,
   "metadata": {},
   "outputs": [
    {
     "data": {
      "text/plain": [
       "2"
      ]
     },
     "execution_count": 6,
     "metadata": {},
     "output_type": "execute_result"
    }
   ],
   "source": [
    "#2(a)\n",
    "forecast = 'It will be a sunny day today'\n",
    "count = forecast.count('day')\n",
    "count"
   ]
  },
  {
   "cell_type": "code",
   "execution_count": 7,
   "metadata": {},
   "outputs": [
    {
     "data": {
      "text/plain": [
       "13"
      ]
     },
     "execution_count": 7,
     "metadata": {},
     "output_type": "execute_result"
    }
   ],
   "source": [
    "#2(b)\n",
    "weather = forecast.find('sunny')\n",
    "weather"
   ]
  },
  {
   "cell_type": "code",
   "execution_count": 8,
   "metadata": {},
   "outputs": [
    {
     "data": {
      "text/plain": [
       "'It will be a cloudy day today'"
      ]
     },
     "execution_count": 8,
     "metadata": {},
     "output_type": "execute_result"
    }
   ],
   "source": [
    "#2(c)\n",
    "change = forecast.replace('sunny', 'cloudy')\n",
    "change"
   ]
  },
  {
   "cell_type": "code",
   "execution_count": 9,
   "metadata": {},
   "outputs": [
    {
     "name": "stdout",
     "output_type": "stream",
     "text": [
      "Smith\tJohn\tPaul\n"
     ]
    }
   ],
   "source": [
    "#3\n",
    "last = 'Smith'\n",
    "first = 'John'\n",
    "middle = 'Paul'\n",
    "print(last ,first , middle, sep = '\\t')"
   ]
  },
  {
   "cell_type": "code",
   "execution_count": 10,
   "metadata": {},
   "outputs": [
    {
     "name": "stdout",
     "output_type": "stream",
     "text": [
      "2, 3, 4, 6, 8, 9, 10, 12, 14, 15, 16, "
     ]
    }
   ],
   "source": [
    "#4\n",
    "def even(n):\n",
    "    for i in range(2, n+1):\n",
    "            if i%2 == 0 or i%3 == 0:\n",
    "                print(i, end=', ')\n",
    "even(17)"
   ]
  },
  {
   "cell_type": "code",
   "execution_count": 11,
   "metadata": {},
   "outputs": [
    {
     "name": "stdout",
     "output_type": "stream",
     "text": [
      "John Doe\n",
      "123 Main Street\n",
      "AnyCity, AS 09876\n"
     ]
    }
   ],
   "source": [
    "#5\n",
    "first = 'John'\n",
    "last = 'Doe'\n",
    "street = 'Main Street'\n",
    "number = 123\n",
    "city = 'AnyCity'\n",
    "state = 'AS'\n",
    "zipcode = '09876'\n",
    "print('{} {}'.format(first,last))\n",
    "print('{} {}'.format(number,street))\n",
    "print('{}, {} {}'.format(city,state,zipcode))"
   ]
  },
  {
   "cell_type": "code",
   "execution_count": 12,
   "metadata": {},
   "outputs": [
    {
     "name": "stdout",
     "output_type": "stream",
     "text": [
      "Last      First     Class     Average Grade\n",
      "DeMoines  Jim       Sophomore     3.45\n"
     ]
    }
   ],
   "source": [
    "#6\n",
    "\n",
    "def roster():\n",
    "    students = []\n",
    "    students.append(['DeMoines', 'Jim', 'Sophomore', 3.45])\n",
    "    print('Last      First     Class     Average Grade')\n",
    "    for student in students:\n",
    "        print('{:10}{:10}{:10}{:8.2f}'.format(student[0],student[1], student[2], student[3]))\n",
    "        \n",
    "    \n",
    "roster()"
   ]
  },
  {
   "cell_type": "code",
   "execution_count": 13,
   "metadata": {},
   "outputs": [
    {
     "data": {
      "text/plain": [
       "'Friday, July 14 2017'"
      ]
     },
     "execution_count": 13,
     "metadata": {},
     "output_type": "execute_result"
    }
   ],
   "source": [
    "#7\n",
    "import time\n",
    "t = time.localtime(1500000000)\n",
    "#(a)\n",
    "time.strftime('%A, %B %d %Y', t)"
   ]
  },
  {
   "cell_type": "code",
   "execution_count": 14,
   "metadata": {},
   "outputs": [
    {
     "data": {
      "text/plain": [
       "'07:40 AM Pakistan Standard Time on 07/14/2017'"
      ]
     },
     "execution_count": 14,
     "metadata": {},
     "output_type": "execute_result"
    }
   ],
   "source": [
    "#(b)\n",
    "time.strftime('%I:%M %p %Z on %m/%d/%Y',t)"
   ]
  },
  {
   "cell_type": "code",
   "execution_count": 15,
   "metadata": {},
   "outputs": [
    {
     "data": {
      "text/plain": [
       "'I will meet you on Fri July 14 at 07:40 AM.'"
      ]
     },
     "execution_count": 15,
     "metadata": {},
     "output_type": "execute_result"
    }
   ],
   "source": [
    "#(c)\n",
    "time.strftime('I will meet you on %a %B %d at %I:%M %p.', t)"
   ]
  },
  {
   "cell_type": "code",
   "execution_count": 23,
   "metadata": {},
   "outputs": [
    {
     "data": {
      "text/plain": [
       "17"
      ]
     },
     "execution_count": 23,
     "metadata": {},
     "output_type": "execute_result"
    }
   ],
   "source": [
    "#8\n",
    "def stringCount(filename, target):\n",
    "    infile = open(filename)\n",
    "    content = infile.read()\n",
    "    infile.close()\n",
    "    return content.count(target)\n",
    "stringCount('example.txt','r')"
   ]
  },
  {
   "cell_type": "code",
   "execution_count": 35,
   "metadata": {},
   "outputs": [
    {
     "data": {
      "text/plain": [
       "['There',\n",
       " 'is',\n",
       " 'a',\n",
       " 'potential',\n",
       " 'danger',\n",
       " 'when',\n",
       " 'the',\n",
       " 'developer',\n",
       " 'using',\n",
       " 'a',\n",
       " 'function',\n",
       " 'does',\n",
       " 'not',\n",
       " 'know',\n",
       " 'its',\n",
       " 'implementation',\n",
       " 'details',\n",
       " 'What',\n",
       " 'if',\n",
       " '\"somehow\"',\n",
       " 'the',\n",
       " 'execution',\n",
       " 'and',\n",
       " 'when',\n",
       " 'there',\n",
       " 'is',\n",
       " 'something',\n",
       " 'you',\n",
       " 'like',\n",
       " 'they',\n",
       " 'like',\n",
       " 'the',\n",
       " 'way',\n",
       " 'he',\n",
       " 'talk']"
      ]
     },
     "execution_count": 35,
     "metadata": {},
     "output_type": "execute_result"
    }
   ],
   "source": [
    "#9\n",
    "def words(filename):\n",
    "    infile = open(filename,'r')\n",
    "    text = infile.read()\n",
    "    infile.close()\n",
    "    table = str.maketrans(\"!,.:;?\",\"      \")\n",
    "    text = text.translate(table)\n",
    "    return text.split()\n",
    "words('example.txt')"
   ]
  },
  {
   "cell_type": "code",
   "execution_count": 34,
   "metadata": {},
   "outputs": [
    {
     "name": "stdout",
     "output_type": "stream",
     "text": [
      "and when there is something you like\n",
      "\n"
     ]
    }
   ],
   "source": [
    "#10\n",
    "def Grep(filename,target):\n",
    "    infile = open(filename)\n",
    "    line = infile.readlines()\n",
    "    for i in line:\n",
    "        if target in i:\n",
    "            print(i)\n",
    "Grep('example.txt','there')"
   ]
  },
  {
   "cell_type": "code",
   "execution_count": 39,
   "metadata": {},
   "outputs": [
    {
     "name": "stdout",
     "output_type": "stream",
     "text": [
      "(a) (3+4] = Here the parenthesis do not match.\n",
      "(b) if statement should end with a colon\n",
      "(c) In python 3.0, an argument for print should be in parenthesis.\n",
      "(d) list elements are separated by a comma and not a semi-colon.\n",
      "(e) The statement inside for loop must be indented.\n"
     ]
    }
   ],
   "source": [
    "#11\n",
    "print('(a) (3+4] = Here the parenthesis do not match.')\n",
    "print('(b) if statement should end with a colon')\n",
    "print('(c) In python 3.0, an argument for print should be in parenthesis.')\n",
    "print('(d) list elements are separated by a comma and not a semi-colon.')\n",
    "print('(e) The statement inside for loop must be indented.')"
   ]
  },
  {
   "cell_type": "code",
   "execution_count": 44,
   "metadata": {},
   "outputs": [
    {
     "name": "stdout",
     "output_type": "stream",
     "text": [
      "bcd bc defghijklmnopqrstuvwx defghijklmnopqrstuvwx wxy wxyz\n"
     ]
    }
   ],
   "source": [
    "#12\n",
    "s = 'abcdefghijklmnopqrstuvwxyz'\n",
    "print(s[1:4],s[1:3],s[3:24],s[3:24],s[22:25],s[22:])"
   ]
  },
  {
   "cell_type": "code",
   "execution_count": 47,
   "metadata": {},
   "outputs": [
    {
     "name": "stdout",
     "output_type": "stream",
     "text": [
      "bc abcdefghijklmn opqrstuvwxyz bcdefghijklmnopqrstuvwxy\n"
     ]
    }
   ],
   "source": [
    "#13\n",
    "s = 'abcdefghijklmnopqrstuvwxyz'\n",
    "print(s[1:3],s[:14],s[14:],s[1:-1])"
   ]
  },
  {
   "cell_type": "code",
   "execution_count": 4,
   "metadata": {},
   "outputs": [
    {
     "name": "stdout",
     "output_type": "stream",
     "text": [
      "128.0.0.1\n",
      "['[12/feb/2011:10:31:08', '-0600]']\n"
     ]
    }
   ],
   "source": [
    "#14(a)\n",
    "log='128.0.0.1 - - [12/feb/2011:10:31:08 -0600] \"GET/docs/text.txt HTTP/1.0\"'\n",
    "address = log.split()[0]\n",
    "date = log.split()[3:5]\n",
    "print('{}\\n{}'.format(address,date))\n"
   ]
  },
  {
   "cell_type": "code",
   "execution_count": 16,
   "metadata": {},
   "outputs": [
    {
     "data": {
      "text/plain": [
       "['10', '20', '30', '40', '50', '60']"
      ]
     },
     "execution_count": 16,
     "metadata": {},
     "output_type": "execute_result"
    }
   ],
   "source": [
    "#15(a)\n",
    "s = '10 20 30 40 50 60'\n",
    "\n",
    "s.split()"
   ]
  },
  {
   "cell_type": "code",
   "execution_count": 21,
   "metadata": {},
   "outputs": [
    {
     "data": {
      "text/plain": [
       "['10', '20', '30', '40', '50', '60']"
      ]
     },
     "execution_count": 21,
     "metadata": {},
     "output_type": "execute_result"
    }
   ],
   "source": [
    "#(b)\n",
    "s = '10,20,30,40,50,60'\n",
    "s.split(sep=',')"
   ]
  },
  {
   "cell_type": "code",
   "execution_count": 23,
   "metadata": {},
   "outputs": [
    {
     "data": {
      "text/plain": [
       "['10', '20', '30', '40', '50', '60']"
      ]
     },
     "execution_count": 23,
     "metadata": {},
     "output_type": "execute_result"
    }
   ],
   "source": [
    "#(c)\n",
    "s = '10&20&30&40&50&60'\n",
    "s.split(sep='&')"
   ]
  },
  {
   "cell_type": "code",
   "execution_count": 24,
   "metadata": {},
   "outputs": [
    {
     "data": {
      "text/plain": [
       "['10 ', ' 20 ', ' 30 ', ' 40 ', ' 50 ', ' 60']"
      ]
     },
     "execution_count": 24,
     "metadata": {},
     "output_type": "execute_result"
    }
   ],
   "source": [
    "#(d)\n",
    "s = '10 - 20 - 30 - 40 - 50 - 60'\n",
    "s.split(sep='-')\n"
   ]
  },
  {
   "cell_type": "code",
   "execution_count": 28,
   "metadata": {},
   "outputs": [
    {
     "name": "stdout",
     "output_type": "stream",
     "text": [
      "enter first word:azka\n",
      "enter second word:fatima\n",
      "enter third word:merab\n",
      "True\n"
     ]
    }
   ],
   "source": [
    "#16\n",
    "x = input('enter first word:')\n",
    "y = input('enter second word:')\n",
    "z = input('enter third word:')\n",
    "if x<y and y<z:\n",
    "    print('True')"
   ]
  },
  {
   "cell_type": "code",
   "execution_count": 35,
   "metadata": {},
   "outputs": [
    {
     "data": {
      "text/plain": [
       "(48, 2, 'The xxxxxx of this message is that it is xxxxxx.')"
      ]
     },
     "execution_count": 35,
     "metadata": {},
     "output_type": "execute_result"
    }
   ],
   "source": [
    "#17\n",
    "variable = 'The secret of this message is that it is secret.'\n",
    "length = len(variable)\n",
    "varcount = variable.count('secret')\n",
    "cencored = variable.replace('secret','xxxxxx')\n",
    "length,varcount,cencored,"
   ]
  },
  {
   "cell_type": "code",
   "execution_count": 9,
   "metadata": {},
   "outputs": [
    {
     "data": {
      "text/plain": [
       "'It was the best of times  it was the worst of times; it was the age of wisdom  it was the age of foolishness; it was the epoch of belief  it was the epoch of incredulity; it was     '"
      ]
     },
     "execution_count": 9,
     "metadata": {},
     "output_type": "execute_result"
    }
   ],
   "source": [
    "#18(a)\n",
    "s = '''It was the best of times, it was the worst of times; it\n",
    "was the age of wisdom, it was the age of foolishness; it was the\n",
    "epoch of belief, it was the epoch of incredulity; it was ... '''\n",
    "table = str.maketrans(\".,:\\n\",\"    \")\n",
    "newS = s.translate(table)\n",
    "newS"
   ]
  },
  {
   "cell_type": "code",
   "execution_count": 59,
   "metadata": {},
   "outputs": [
    {
     "data": {
      "text/plain": [
       "'it was the best of times  it was the worst of times; it was the age of wisdom  it was the age of foolishness; it was the epoch of belief  it was the epoch of incredulity; it was'"
      ]
     },
     "execution_count": 59,
     "metadata": {},
     "output_type": "execute_result"
    }
   ],
   "source": [
    "#(b)\n",
    "newS.strip()"
   ]
  },
  {
   "cell_type": "code",
   "execution_count": 56,
   "metadata": {},
   "outputs": [
    {
     "data": {
      "text/plain": [
       "'it was the best of times  it was the worst of times; it was the age of wisdom  it was the age of foolishness; it was the epoch of belief  it was the epoch of incredulity; it was     '"
      ]
     },
     "execution_count": 56,
     "metadata": {},
     "output_type": "execute_result"
    }
   ],
   "source": [
    "#(c)\n",
    "newS = newS.lower()\n",
    "newS"
   ]
  },
  {
   "cell_type": "code",
   "execution_count": 57,
   "metadata": {},
   "outputs": [
    {
     "data": {
      "text/plain": [
       "7"
      ]
     },
     "execution_count": 57,
     "metadata": {},
     "output_type": "execute_result"
    }
   ],
   "source": [
    "#(d)\n",
    "newS.count('it was')"
   ]
  },
  {
   "cell_type": "code",
   "execution_count": 58,
   "metadata": {},
   "outputs": [
    {
     "data": {
      "text/plain": [
       "'it is the best of times  it is the worst of times; it is the age of wisdom  it is the age of foolishness; it is the epoch of belief  it is the epoch of incredulity; it is     '"
      ]
     },
     "execution_count": 58,
     "metadata": {},
     "output_type": "execute_result"
    }
   ],
   "source": [
    "#(e)\n",
    "newS.replace('was','is')"
   ]
  },
  {
   "cell_type": "code",
   "execution_count": 11,
   "metadata": {},
   "outputs": [
    {
     "name": "stdout",
     "output_type": "stream",
     "text": [
      "['It', 'was', 'the', 'best', 'of', 'times', 'it', 'was', 'the', 'worst', 'of', 'times;', 'it', 'was', 'the', 'age', 'of', 'wisdom', 'it', 'was', 'the', 'age', 'of', 'foolishness;', 'it', 'was', 'the', 'epoch', 'of', 'belief', 'it', 'was', 'the', 'epoch', 'of', 'incredulity;', 'it', 'was']"
     ]
    }
   ],
   "source": [
    "#(f)\n",
    "listS = newS.split()\n",
    "print(listS, end=\"\")"
   ]
  },
  {
   "cell_type": "code",
   "execution_count": 13,
   "metadata": {},
   "outputs": [
    {
     "name": "stdout",
     "output_type": "stream",
     "text": [
      "Sigel, Marlena Mae\n",
      "Sigel, Marlena M\n",
      "Marlena M. Sigel\n",
      "M. M. Sigel\n",
      "Sigel, M. \n"
     ]
    }
   ],
   "source": [
    "#19\n",
    "first = 'Marlena'\n",
    "last = 'Sigel'\n",
    "middle = 'Mae'\n",
    "print('{}, {} {}'.format(last,first,middle))\n",
    "print('{}, {} {}'.format(last,first,middle[0]))\n",
    "print('{} {}. {}'.format(first,middle[0],last))\n",
    "print('{}. {}. {}'.format(middle[0],middle[0],last))\n",
    "print('{}, {}. '.format(last,middle[0]))"
   ]
  },
  {
   "cell_type": "code",
   "execution_count": 76,
   "metadata": {},
   "outputs": [
    {
     "name": "stdout",
     "output_type": "stream",
     "text": [
      "enter sender:ali\n",
      "enter recipient:faraz\n",
      "enter subject:how are you\n",
      "from: ali \n",
      "to: faraz \n",
      "subject: how are you\n"
     ]
    }
   ],
   "source": [
    "#20\n",
    "sen = input('enter sender:')\n",
    "rec = input('enter recipient:')\n",
    "sub = input('enter subject:')\n",
    "print('from: {} \\nto: {} \\nsubject: {}'.format(sen,rec,sub))"
   ]
  },
  {
   "cell_type": "code",
   "execution_count": 81,
   "metadata": {},
   "outputs": [
    {
     "data": {
      "text/plain": [
       "'pi = 3.14,e = 2.72'"
      ]
     },
     "execution_count": 81,
     "metadata": {},
     "output_type": "execute_result"
    }
   ],
   "source": [
    "#21(a)\n",
    "import math\n",
    "e,pi = math.e,math.pi\n",
    "'pi = {0:2.1f},e = {1:2.1f}'.format(pi,e)"
   ]
  },
  {
   "cell_type": "code",
   "execution_count": 82,
   "metadata": {},
   "outputs": [
    {
     "data": {
      "text/plain": [
       "'pi = 3.14,e = 2.72'"
      ]
     },
     "execution_count": 82,
     "metadata": {},
     "output_type": "execute_result"
    }
   ],
   "source": [
    "#(b)\n",
    "'pi = {0:2.2f},e = {1:2.2f}'.format(pi,e)"
   ]
  },
  {
   "cell_type": "code",
   "execution_count": 83,
   "metadata": {},
   "outputs": [
    {
     "data": {
      "text/plain": [
       "'pi = 3.141593e+00,e = 3.141593e+00'"
      ]
     },
     "execution_count": 83,
     "metadata": {},
     "output_type": "execute_result"
    }
   ],
   "source": [
    "#(c)\n",
    "'pi = {0:e},e = {0:e}'.format(pi,e)"
   ]
  },
  {
   "cell_type": "code",
   "execution_count": 87,
   "metadata": {},
   "outputs": [
    {
     "data": {
      "text/plain": [
       "'pi = 3.14159,e = 2.71828'"
      ]
     },
     "execution_count": 87,
     "metadata": {},
     "output_type": "execute_result"
    }
   ],
   "source": [
    "#(e)\n",
    "'pi = {0:2.5f},e = {1:2.5f}'.format(pi,e)"
   ]
  },
  {
   "cell_type": "code",
   "execution_count": 90,
   "metadata": {},
   "outputs": [
    {
     "data": {
      "text/plain": [
       "'Jan'"
      ]
     },
     "execution_count": 90,
     "metadata": {},
     "output_type": "execute_result"
    }
   ],
   "source": [
    "#22\n",
    "def month(n):\n",
    "    lst = \"JanFebMarAprMayJunJulAugSepOctNovDec\"\n",
    "    return lst[(n-1)*3:n*3]\n",
    "month(1)"
   ]
  },
  {
   "cell_type": "code",
   "execution_count": 15,
   "metadata": {},
   "outputs": [
    {
     "name": "stdout",
     "output_type": "stream",
     "text": [
      "enter a sentence:he is a good boy\n",
      "3.2\n"
     ]
    }
   ],
   "source": [
    "#23\n",
    "def average():\n",
    "    sen=input(\"enter a sentence:\")\n",
    "    word=sen.split()\n",
    "    print(len(sen)/len(word))\n",
    "average()"
   ]
  },
  {
   "cell_type": "code",
   "execution_count": 16,
   "metadata": {},
   "outputs": [
    {
     "name": "stdout",
     "output_type": "stream",
     "text": [
      "how do you spellwinner? \n",
      "I know,I know!\n",
      "H U S K I E S ! \n",
      "And that 's how you spell winner! \n",
      "Go huskies!\n"
     ]
    }
   ],
   "source": [
    "#24\n",
    "def cheer(name):\n",
    "    print('how do you spellwinner? \\nI know,I know!')\n",
    "    for i in name:\n",
    "        print(i.upper(),end=' ')\n",
    "    print(\"! \\nAnd that 's how you spell winner! \\nGo \"+name+\"!\" )\n",
    "    \n",
    "cheer('huskies')"
   ]
  },
  {
   "cell_type": "code",
   "execution_count": 122,
   "metadata": {},
   "outputs": [
    {
     "name": "stdout",
     "output_type": "stream",
     "text": [
      "a, e, i, o, u appear respectively 1, 3, 0, 1, 1 times\n"
     ]
    }
   ],
   "source": [
    "#25\n",
    "def vowelcount(string):\n",
    "    a = string.count('a')\n",
    "    e = string.count('e')\n",
    "    i = string.count('i')\n",
    "    o = string.count('o')\n",
    "    u = string.count('u')\n",
    "    print('a, e, i, o, u appear respectively {}, {}, {}, {}, {} times'.format(a,e,i,o,u))\n",
    "vowelcount('Le Tour de France')\n",
    "    "
   ]
  },
  {
   "cell_type": "code",
   "execution_count": 127,
   "metadata": {},
   "outputs": [
    {
     "name": "stdout",
     "output_type": "stream",
     "text": [
      "I will tell you my xxxxxx. But first, I have to explain\n",
      "why it is a xxxxxx.\n",
      "And that is all I will tell you about my xxxxxx.\n",
      "\n"
     ]
    }
   ],
   "source": [
    "#26\n",
    "def crypto(filename):\n",
    "    infile = open(filename,'r')\n",
    "    text = infile.read()\n",
    "    text = text.replace(\"secret\",\"xxxxxx\")\n",
    "    print(text)\n",
    "crypto('crypto.txt')"
   ]
  },
  {
   "cell_type": "code",
   "execution_count": 130,
   "metadata": {},
   "outputs": [
    {
     "data": {
      "text/plain": [
       "'There is. a potential danger when the developer using a function does not know! its implementation details. What if, \"somehow\", the execution?\\nand when there is something you like\\nthey like the way he talk '"
      ]
     },
     "execution_count": 130,
     "metadata": {},
     "output_type": "execute_result"
    }
   ],
   "source": [
    "#27\n",
    "def fcopy(file1,file2):\n",
    "    infile = open(file1,'r')\n",
    "    text = infile.read()\n",
    "    infile.close()\n",
    "    outfile = open(file2,'w')\n",
    "    outfile.write(text)\n",
    "    outfile.close()\n",
    "fcopy('example.txt','output.txt')\n",
    "open('output.txt').read()"
   ]
  },
  {
   "cell_type": "code",
   "execution_count": 137,
   "metadata": {},
   "outputs": [
    {
     "data": {
      "text/plain": [
       "3"
      ]
     },
     "execution_count": 137,
     "metadata": {},
     "output_type": "execute_result"
    }
   ],
   "source": [
    "#28\n",
    "def links(file):\n",
    "    infile = open(file,\"r\")\n",
    "    text = infile.read()\n",
    "    infile.close()\n",
    "    return text.count(\"\")\n",
    "links('links.html')"
   ]
  },
  {
   "cell_type": "code",
   "execution_count": 18,
   "metadata": {},
   "outputs": [
    {
     "name": "stdout",
     "output_type": "stream",
     "text": [
      "characters are = 206\n",
      "words are = 35\n",
      "lines are = 3\n"
     ]
    }
   ],
   "source": [
    "#29\n",
    "def stats(file):\n",
    "    infile = open(file,'r')\n",
    "    text = infile.read()\n",
    "    infile.close()\n",
    "    chars = len(text)\n",
    "    words = len(text.split())\n",
    "    lines = text.count('\\n')\n",
    "    lines = lines+1\n",
    "    print('characters are = {}\\nwords are = {}\\nlines are = {}'.format(chars,words,lines))\n",
    "stats('example.txt')"
   ]
  },
  {
   "cell_type": "code",
   "execution_count": 23,
   "metadata": {},
   "outputs": [
    {
     "name": "stdout",
     "output_type": "stream",
     "text": [
      "7 got A+\n",
      "3  got A\n",
      "6  got B\n",
      "9  got c\n",
      "3  got D\n",
      "2  got F\n"
     ]
    }
   ],
   "source": [
    "#30\n",
    "def distribut(filename):\n",
    "    infile=open(filename,'r')\n",
    "    content=infile.read()\n",
    "    infile.close()\n",
    "    print(content.count(\"A+\"),\"got A+\")\n",
    "    print(content.count(\"A \"),\" got A\")\n",
    "    print(content.count(\"B\"),\" got B\")\n",
    "    print(content.count(\"C\"),\" got C\")\n",
    "    print(content.count(\"D\"),\" got D\")\n",
    "    print(content.count(\"F\"),\" got F\")\n",
    "grades('grade.txt')"
   ]
  },
  {
   "cell_type": "code",
   "execution_count": 26,
   "metadata": {},
   "outputs": [
    {
     "data": {
      "text/plain": [
       "True"
      ]
     },
     "execution_count": 26,
     "metadata": {},
     "output_type": "execute_result"
    }
   ],
   "source": [
    "#31\n",
    "def duplicate(filename):\n",
    "    infile=open(filename,'r')\n",
    "    content=infile.read()\n",
    "    infile.close()\n",
    "    words=content.split()\n",
    "    wordset=set(words)\n",
    "    if len(wordset)==len(words):\n",
    "        return False\n",
    "    else:\n",
    "        return True\n",
    "            \n",
    "duplicate('example.txt')    "
   ]
  },
  {
   "cell_type": "code",
   "execution_count": 33,
   "metadata": {},
   "outputs": [
    {
     "name": "stdout",
     "output_type": "stream",
     "text": [
      "There is. a potential danger xxxx the developer using a function xxxx not xxxx! its implementation details. xxxx if, \"somehow\", the execution?\n",
      "and xxxx there is something you xxxx\n",
      "xxxx xxxx the way he xxxx \n"
     ]
    },
    {
     "data": {
      "text/plain": [
       "'Done'"
      ]
     },
     "execution_count": 33,
     "metadata": {},
     "output_type": "execute_result"
    }
   ],
   "source": [
    "#32\n",
    "def censor(file1,file2):\n",
    "    infile = open(file1,'r')\n",
    "    content = infile.read()\n",
    "    infile.close()\n",
    "    table = str.maketrans(',.?!','    ')\n",
    "    t= content.translate(table)\n",
    "    text = t.split()\n",
    "    for word in text:\n",
    "        if (len(word)==4):\n",
    "            content=content.replace(word,'xxxx')\n",
    "    outfile=open(file2,'w')\n",
    "    outfile.write(str(content))\n",
    "    outfile.close()\n",
    "    print(content)\n",
    "    return 'Done'\n",
    "censor('example.txt','crypt.txt')\n"
   ]
  },
  {
   "cell_type": "code",
   "execution_count": null,
   "metadata": {},
   "outputs": [],
   "source": []
  }
 ],
 "metadata": {
  "kernelspec": {
   "display_name": "Python 3",
   "language": "python",
   "name": "python3"
  },
  "language_info": {
   "codemirror_mode": {
    "name": "ipython",
    "version": 3
   },
   "file_extension": ".py",
   "mimetype": "text/x-python",
   "name": "python",
   "nbconvert_exporter": "python",
   "pygments_lexer": "ipython3",
   "version": "3.7.3"
  }
 },
 "nbformat": 4,
 "nbformat_minor": 2
}
