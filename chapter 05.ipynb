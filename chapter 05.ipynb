{
 "cells": [
  {
   "cell_type": "code",
   "execution_count": 8,
   "metadata": {},
   "outputs": [
    {
     "name": "stdout",
     "output_type": "stream",
     "text": [
      "Normal\n",
      "Underweight\n"
     ]
    }
   ],
   "source": [
    "#5.1\n",
    "def myBMI(weight, height):\n",
    "    bmi = weight * 703 / height**2\n",
    "    if bmi < 18.5:\n",
    "        print('Underweight')\n",
    "    elif bmi < 25:\n",
    "        print('Normal')\n",
    "    else:\n",
    "        print('Overweight')\n",
    "myBMI(190,75)\n",
    "myBMI(140,75)"
   ]
  },
  {
   "cell_type": "code",
   "execution_count": 11,
   "metadata": {},
   "outputs": [
    {
     "name": "stdout",
     "output_type": "stream",
     "text": [
      "2 4 8 16 32 64 "
     ]
    }
   ],
   "source": [
    "#5.2\n",
    "def power(n):\n",
    "    for i in range(1,n+1):\n",
    "        print(2**i,end=' ')\n",
    "power(6)"
   ]
  },
  {
   "cell_type": "code",
   "execution_count": 20,
   "metadata": {},
   "outputs": [
    {
     "data": {
      "text/plain": [
       "True"
      ]
     },
     "execution_count": 20,
     "metadata": {},
     "output_type": "execute_result"
    }
   ],
   "source": [
    "#5.3\n",
    "def arithmetic(lst):\n",
    "    if len(lst) < 2: # a sequence of length < 2 is arithmetic\n",
    "        return True\n",
    "    diff = lst[1] - lst[0]\n",
    "    for i in range(1, len(lst)-1):\n",
    "        if lst[i+1] - lst[i] != diff:\n",
    "            return False\n",
    "    return True\n",
    "arithmetic([3, 6, 9, 12, 15])"
   ]
  },
  {
   "cell_type": "code",
   "execution_count": 3,
   "metadata": {},
   "outputs": [
    {
     "data": {
      "text/plain": [
       "6"
      ]
     },
     "execution_count": 3,
     "metadata": {},
     "output_type": "execute_result"
    }
   ],
   "source": [
    "#5.4\n",
    "def factorial(n):\n",
    "    if n<=1:\n",
    "        return 1\n",
    "    count = 1\n",
    "    for i in range(2, n+1):\n",
    "        count *=i\n",
    "    return count\n",
    "factorial(3)"
   ]
  },
  {
   "cell_type": "code",
   "execution_count": 6,
   "metadata": {},
   "outputs": [
    {
     "data": {
      "text/plain": [
       "'RAM'"
      ]
     },
     "execution_count": 6,
     "metadata": {},
     "output_type": "execute_result"
    }
   ],
   "source": [
    "#5.5\n",
    "def acronym(phrase):\n",
    "    words  =phrase.split()\n",
    "    x = ''\n",
    "    for i in words:\n",
    "        x += i[0].upper()\n",
    "    return x\n",
    "acronym('random access memory')"
   ]
  },
  {
   "cell_type": "code",
   "execution_count": 11,
   "metadata": {},
   "outputs": [
    {
     "data": {
      "text/plain": [
       "[1, 2, 3, 6]"
      ]
     },
     "execution_count": 11,
     "metadata": {},
     "output_type": "execute_result"
    }
   ],
   "source": [
    "#5.6\n",
    "def divisor(n):\n",
    "    res = []\n",
    "    for i in range(1,n+1):\n",
    "        if n%i==0:\n",
    "            res.append(i)\n",
    "    return res\n",
    "divisor(6)"
   ]
  },
  {
   "cell_type": "code",
   "execution_count": 17,
   "metadata": {},
   "outputs": [
    {
     "data": {
      "text/plain": [
       "[2, 4, 3, 6]"
      ]
     },
     "execution_count": 17,
     "metadata": {},
     "output_type": "execute_result"
    }
   ],
   "source": [
    "#5.7\n",
    "def xmult(l1, l2):\n",
    "    l = []\n",
    "    for i in l1:\n",
    "        for j in l2:\n",
    "            l.append(i*j)\n",
    "    return l\n",
    "xmult([2,3],[1,2])"
   ]
  },
  {
   "cell_type": "code",
   "execution_count": 21,
   "metadata": {},
   "outputs": [
    {
     "data": {
      "text/plain": [
       "[1, 2, 3, 4, 5, 7, 9]"
      ]
     },
     "execution_count": 21,
     "metadata": {},
     "output_type": "execute_result"
    }
   ],
   "source": [
    "#5.8\n",
    "def bubblesort(lst):\n",
    "    for i in range(len(lst)-1, 0, -1):\n",
    "        for j in range(i):\n",
    "            if lst[j] > lst[j+1]:\n",
    "                lst[j], lst[j+1] = lst[j+1], lst[j]\n",
    "    return lst\n",
    "bubblesort([3, 1, 7, 4, 9, 2, 5])\n",
    "\n"
   ]
  },
  {
   "cell_type": "code",
   "execution_count": 9,
   "metadata": {},
   "outputs": [
    {
     "name": "stdout",
     "output_type": "stream",
     "text": [
      "4 8 4 5 \n",
      "5 2 10 3 \n",
      "8 4 6 6 \n"
     ]
    }
   ],
   "source": [
    "#5.9\n",
    "\n",
    "def add2D(t1,t2):\n",
    "    nrows = len(t1)\n",
    "    ncols  =len(t1[0])\n",
    "    for i in range(nrows):\n",
    "        for j in range(ncols):\n",
    "            t1[i][j] += t2[i][j]\n",
    "            print(t1[i][j], end =' ')\n",
    "        print()\n",
    "s = [[4, 7, 2, 5], [5, 1, 9, 2], [8, 3, 6, 6]]\n",
    "t =[[0, 1, 2, 0], [0, 1, 1, 1], [0, 1, 0, 0]]\n",
    "add2D(s,t)"
   ]
  },
  {
   "cell_type": "code",
   "execution_count": 13,
   "metadata": {},
   "outputs": [
    {
     "data": {
      "text/plain": [
       "12"
      ]
     },
     "execution_count": 13,
     "metadata": {},
     "output_type": "execute_result"
    }
   ],
   "source": [
    "#5.10\n",
    "def interest(x):\n",
    "    amount = 100\n",
    "    count = 0\n",
    "    while amount < 200:\n",
    "        count += 1\n",
    "        amount += amount*x\n",
    "    return count\n",
    "interest(0.06)"
   ]
  },
  {
   "cell_type": "code",
   "execution_count": 21,
   "metadata": {},
   "outputs": [
    {
     "data": {
      "text/plain": [
       "2.708333333333333"
      ]
     },
     "execution_count": 21,
     "metadata": {},
     "output_type": "execute_result"
    }
   ],
   "source": [
    "#5.11\n",
    "from math import factorial as fac\n",
    "def approxE(error):\n",
    "    value = 1\n",
    "    i = 1\n",
    "    while 1/fac(i)>error:\n",
    "        value += 1/fac(i)\n",
    "        i += 1\n",
    "    return value\n",
    "approxE(0.02)\n"
   ]
  },
  {
   "cell_type": "code",
   "execution_count": 22,
   "metadata": {},
   "outputs": [
    {
     "name": "stdout",
     "output_type": "stream",
     "text": [
      "negative\n"
     ]
    }
   ],
   "source": [
    "#5.12\n",
    "def test(x):\n",
    "    if x==0:\n",
    "        print('zero')\n",
    "    elif x>0:\n",
    "        print('positive')\n",
    "    else:\n",
    "        print('negative')\n",
    "test(-5)"
   ]
  },
  {
   "cell_type": "code",
   "execution_count": 28,
   "metadata": {},
   "outputs": [
    {
     "name": "stdout",
     "output_type": "stream",
     "text": [
      "3\n",
      "6\n",
      "3\n",
      "9\n",
      "9\n"
     ]
    }
   ],
   "source": [
    "#5.14\n",
    "def mult3(list):\n",
    "    for i in list:\n",
    "        if i%3==0 :\n",
    "            print(i)\n",
    "mult3([3, 1, 6, 2, 3, 9, 7, 9, 5, 4, 5])"
   ]
  },
  {
   "cell_type": "code",
   "execution_count": 31,
   "metadata": {},
   "outputs": [
    {
     "name": "stdout",
     "output_type": "stream",
     "text": [
      "1\n",
      "4\n",
      "7\n"
     ]
    }
   ],
   "source": [
    "#5.15\n",
    "def vowels(str):\n",
    "    for i in range(0,len(str)):\n",
    "        if str[i] in 'aeiouAEIOU':\n",
    "            print(i)\n",
    "vowels('Hello WORLD')"
   ]
  },
  {
   "cell_type": "code",
   "execution_count": 46,
   "metadata": {},
   "outputs": [
    {
     "data": {
      "text/plain": [
       "[2, 3, 5, 6]"
      ]
     },
     "execution_count": 46,
     "metadata": {},
     "output_type": "execute_result"
    }
   ],
   "source": [
    "#5.16\n",
    "def indexes(string,char):\n",
    "    lst = []\n",
    "    for index,i in enumerate(string):\n",
    "        if i == char:\n",
    "            lst.append(index)\n",
    "    return lst\n",
    "indexes('mississippi', 's')"
   ]
  },
  {
   "cell_type": "code",
   "execution_count": 50,
   "metadata": {},
   "outputs": [
    {
     "name": "stdout",
     "output_type": "stream",
     "text": [
      "2\n",
      "6\n",
      "4\n"
     ]
    }
   ],
   "source": [
    "#5.17\n",
    "def doubles(list):\n",
    "    for i in range(1,len(list)):\n",
    "        if (list[i] == 2*list[i-1]):\n",
    "            print(list[i])\n",
    "doubles([3, 0, 1, 2, 3, 6, 2, 4, 5, 6, 5])\n"
   ]
  },
  {
   "cell_type": "code",
   "execution_count": 54,
   "metadata": {},
   "outputs": [
    {
     "data": {
      "text/plain": [
       "['stop', 'door', 'dust']"
      ]
     },
     "execution_count": 54,
     "metadata": {},
     "output_type": "execute_result"
    }
   ],
   "source": [
    "#5.18\n",
    "def four_letter(list):\n",
    "    lst = []\n",
    "    for i in list:\n",
    "        if len(i) == 4:\n",
    "            lst.append(i)\n",
    "    return lst\n",
    "four_letter(['dog', 'letter', 'stop', 'door', 'bus', 'dust'])\n"
   ]
  },
  {
   "cell_type": "code",
   "execution_count": 61,
   "metadata": {},
   "outputs": [
    {
     "data": {
      "text/plain": [
       "True"
      ]
     },
     "execution_count": 61,
     "metadata": {},
     "output_type": "execute_result"
    }
   ],
   "source": [
    "5.19\n",
    "def inBoth(l1,l2):\n",
    "    for i in l1:\n",
    "        for j in l2:\n",
    "            if i == j:\n",
    "                return True\n",
    "        return False\n",
    "            \n",
    "inBoth([3, 2, 5, 4, 7], [9, 0, 1, 3])"
   ]
  },
  {
   "cell_type": "code",
   "execution_count": 64,
   "metadata": {},
   "outputs": [
    {
     "data": {
      "text/plain": [
       "[3, 9]"
      ]
     },
     "execution_count": 64,
     "metadata": {},
     "output_type": "execute_result"
    }
   ],
   "source": [
    "#5.20:\n",
    "def intersect(l1,l2):\n",
    "    lst = []\n",
    "    for i in l1:\n",
    "        for j in l2:\n",
    "            if i == j:\n",
    "                lst.append(i)\n",
    "    return lst\n",
    "intersect([3, 5, 1, 7, 9], [4, 2, 6, 3, 9])"
   ]
  },
  {
   "cell_type": "code",
   "execution_count": 1,
   "metadata": {},
   "outputs": [
    {
     "name": "stdout",
     "output_type": "stream",
     "text": [
      "2 7\n",
      "4 5\n"
     ]
    }
   ],
   "source": [
    "#5.21\n",
    "def pair(l1,l2,n):\n",
    "    for i in l1:\n",
    "        for j in l2:\n",
    "            if i+j == n:\n",
    "                print(i,j)\n",
    "pair([2, 3, 4], [5, 7, 9, 12], 9)"
   ]
  },
  {
   "cell_type": "code",
   "execution_count": 14,
   "metadata": {},
   "outputs": [
    {
     "name": "stdout",
     "output_type": "stream",
     "text": [
      "0 4\n",
      "1 3\n",
      "2 5\n"
     ]
    }
   ],
   "source": [
    "#5.22\n",
    "def pairSum(l1,n):\n",
    "    for i in range(0,len(l1)):\n",
    "        for j in range(i+1,len(l1)):\n",
    "            if l1[i] + l1[j] == n:\n",
    "                print(i,j)\n",
    "pairSum([7, 8, 5, 3, 4, 6], 11)"
   ]
  },
  {
   "cell_type": "code",
   "execution_count": 18,
   "metadata": {},
   "outputs": [
    {
     "data": {
      "text/plain": [
       "720.0"
      ]
     },
     "execution_count": 18,
     "metadata": {},
     "output_type": "execute_result"
    }
   ],
   "source": [
    "#5.23\n",
    "def pay(wage,hours):\n",
    "    if hours <= 40:\n",
    "        return hours*wage\n",
    "    elif hours <= 60:\n",
    "        return (hours-40)*1.5*wage+40*wage\n",
    "    else:\n",
    "        return (hours-60)*2*wage+20*1.5*wage+40*wage\n",
    "pay(10,35)\n",
    "pay(10,45)\n",
    "pay(10,61)"
   ]
  },
  {
   "cell_type": "code",
   "execution_count": 21,
   "metadata": {},
   "outputs": [
    {
     "data": {
      "text/plain": [
       "'Unknown'"
      ]
     },
     "execution_count": 21,
     "metadata": {},
     "output_type": "execute_result"
    }
   ],
   "source": [
    "#5.24\n",
    "def case(string):\n",
    "    if string[0] >= 'A' and string[0] <= 'Z':\n",
    "        return 'Capitalized'\n",
    "    elif string[0] >= 'a' and string[0] <= 'z':\n",
    "        return 'Uncapitalized'\n",
    "    else:\n",
    "        return 'Unknown'\n",
    "    \n",
    "case('Android')"
   ]
  },
  {
   "cell_type": "code",
   "execution_count": 26,
   "metadata": {},
   "outputs": [
    {
     "data": {
      "text/plain": [
       "True"
      ]
     },
     "execution_count": 26,
     "metadata": {},
     "output_type": "execute_result"
    }
   ],
   "source": [
    "#5.25\n",
    "def leap(year):\n",
    "    if (year%4 == 0):\n",
    "        return True\n",
    "    return False\n",
    "leap(2008)\n",
    "    "
   ]
  },
  {
   "cell_type": "code",
   "execution_count": 28,
   "metadata": {},
   "outputs": [
    {
     "data": {
      "text/plain": [
       "('2nd player win',)"
      ]
     },
     "execution_count": 28,
     "metadata": {},
     "output_type": "execute_result"
    }
   ],
   "source": [
    "#5.26\n",
    "def rps(p1,p2):\n",
    "    if p1 == p2:\n",
    "        return 'Tie'\n",
    "    elif (p1 == 'r' and p2 == 's') or (p1 == 's' and p2 == 'p') or (p1 == 'p' and p2 == 'r'):\n",
    "        return '1st player win'\n",
    "    else:\n",
    "        return '2nd player win',\n",
    "rps('r','p')"
   ]
  },
  {
   "cell_type": "code",
   "execution_count": 41,
   "metadata": {},
   "outputs": [
    {
     "data": {
      "text/plain": [
       "3.7"
      ]
     },
     "execution_count": 41,
     "metadata": {},
     "output_type": "execute_result"
    }
   ],
   "source": [
    "#5.27\n",
    "def letter2num(grade):\n",
    "    num = 4 - (ord(grade[0]) - ord('A'))\n",
    "    if len(grade) > 1:\n",
    "        if grade[1] == '+':\n",
    "            num += 0.3\n",
    "        else:\n",
    "            num -= 0.3\n",
    "    return num\n",
    "letter2num('A-')\n"
   ]
  },
  {
   "cell_type": "code",
   "execution_count": 61,
   "metadata": {},
   "outputs": [
    {
     "data": {
      "text/plain": [
       "True"
      ]
     },
     "execution_count": 61,
     "metadata": {},
     "output_type": "execute_result"
    }
   ],
   "source": [
    "#5.28\n",
    "def geometric(lst):\n",
    "    if len(lst) <= 1:\n",
    "        return True\n",
    "    ratio = lst[1]/lst[0]\n",
    "    for i in range(1,len(lst)):\n",
    "        if lst[i]/lst[i-1] != ratio:\n",
    "            return 'False'\n",
    "    return True\n",
    "geometric([2, 4, 8, 16, 32, 64, 128, 256])"
   ]
  },
  {
   "cell_type": "code",
   "execution_count": 66,
   "metadata": {},
   "outputs": [
    {
     "data": {
      "text/plain": [
       "([' Len', ' Kate', ' Bob'], ['Gerber', 'Fox', 'Dunn'])"
      ]
     },
     "execution_count": 66,
     "metadata": {},
     "output_type": "execute_result"
    }
   ],
   "source": [
    "#5.29\n",
    "def lastfirst(names):\n",
    "    last,first = [],[]\n",
    "    for i in names:\n",
    "        temp_last,temp_first = i.split(',')\n",
    "        last.append(temp_last)\n",
    "        first.append(temp_first)\n",
    "\n",
    "    x = first,last\n",
    "    return x\n",
    "lastfirst(['Gerber, Len', 'Fox, Kate', 'Dunn, Bob'])\n"
   ]
  },
  {
   "cell_type": "code",
   "execution_count": 5,
   "metadata": {},
   "outputs": [
    {
     "name": "stdout",
     "output_type": "stream",
     "text": [
      "words of length 1 : 3\n",
      "words of length 2 : 6\n",
      "words of length 3 : 4\n",
      "words of length 4 : 6\n",
      "\n"
     ]
    }
   ],
   "source": [
    "#5.30\n",
    "def many(file):\n",
    "    l1,l2,l3,l4 = 0,0,0,0\n",
    "    infile = open(file,'r')\n",
    "    content = infile.read()\n",
    "    infile.close\n",
    "    table = str.maketrans('!,.::?','      ')\n",
    "    content = content.translate(table)\n",
    "    word = content.split()\n",
    "    for i in word:\n",
    "        if len(i) == 1:\n",
    "            l1 += 1\n",
    "        elif len(i) == 2:\n",
    "            l2 += 1\n",
    "        elif len(i) == 3:\n",
    "            l3 += 1\n",
    "        elif len(i) == 4:\n",
    "            l4 += 1\n",
    "    print('words of length 1 : {}\\nwords of length 2 : {}\\nwords of length 3 : {}\\nwords of length 4 : {}\\n'.format(l1,l2,l3,l4))\n",
    "many('sample.TXT')"
   ]
  },
  {
   "cell_type": "code",
   "execution_count": 6,
   "metadata": {},
   "outputs": [
    {
     "data": {
      "text/plain": [
       "True"
      ]
     },
     "execution_count": 6,
     "metadata": {},
     "output_type": "execute_result"
    }
   ],
   "source": [
    "#5.31\n",
    "def subsetsum(l1,t):\n",
    "    for i in range(0,len(l1)):\n",
    "        for j in range(i,len(l1)):\n",
    "            for k in range(j,len(l1)):\n",
    "                if l1[i] + l1[j] + l1[k] == t:\n",
    "                    return True\n",
    "    return False\n",
    "subsetsum([5, 4, 10, 20, 15, 19], 38)\n",
    "\n"
   ]
  },
  {
   "cell_type": "code",
   "execution_count": 26,
   "metadata": {},
   "outputs": [
    {
     "data": {
      "text/plain": [
       "5"
      ]
     },
     "execution_count": 26,
     "metadata": {},
     "output_type": "execute_result"
    }
   ],
   "source": [
    "#5.32\n",
    "def fib(n):\n",
    "    if n < 2:\n",
    "        return 1\n",
    "    a = 1\n",
    "    b = 1\n",
    "    for i in range(1,n):\n",
    "        a = a + b\n",
    "        b = a - b \n",
    "    return a\n",
    "fib(4)"
   ]
  },
  {
   "cell_type": "code",
   "execution_count": 31,
   "metadata": {},
   "outputs": [
    {
     "data": {
      "text/plain": [
       "4"
      ]
     },
     "execution_count": 31,
     "metadata": {},
     "output_type": "execute_result"
    }
   ],
   "source": [
    "#5.33\n",
    "def mystry(n):\n",
    "    ans = 0\n",
    "    while n > 1:\n",
    "        ans += 1\n",
    "        n = int(n/2)\n",
    "    return ans\n",
    "mystry(25)"
   ]
  },
  {
   "cell_type": "code",
   "execution_count": 32,
   "metadata": {},
   "outputs": [
    {
     "data": {
      "text/plain": [
       "[120.29, -70.67]"
      ]
     },
     "execution_count": 32,
     "metadata": {},
     "output_type": "execute_result"
    }
   ],
   "source": [
    "#5.34\n",
    "def statement(lst):\n",
    "    dep,draws = 0,0\n",
    "    for n in lst:\n",
    "        if n > 0:\n",
    "            dep += n\n",
    "        else:\n",
    "            draws += n\n",
    "    return [dep,draws]\n",
    "statement([30.95, -15.67, 45.56, -55.00, 43.78])\n"
   ]
  },
  {
   "cell_type": "code",
   "execution_count": 38,
   "metadata": {},
   "outputs": [
    {
     "data": {
      "text/plain": [
       "5"
      ]
     },
     "execution_count": 38,
     "metadata": {},
     "output_type": "execute_result"
    }
   ],
   "source": [
    "#5.35\n",
    "def pixels(lst):\n",
    "    ans = 0\n",
    "    for i in range(0,len(lst)):\n",
    "        for j in range(0,len(lst[0])):\n",
    "            if lst[i][j] > 0:\n",
    "                ans += 1\n",
    "    return ans\n",
    "\n",
    "pixels([[0, 156, 0, 0], [34, 0, 0, 0], [23, 123, 0, 34]])"
   ]
  },
  {
   "cell_type": "code",
   "execution_count": 47,
   "metadata": {},
   "outputs": [
    {
     "data": {
      "text/plain": [
       "True"
      ]
     },
     "execution_count": 47,
     "metadata": {},
     "output_type": "execute_result"
    }
   ],
   "source": [
    "#5.36\n",
    "def prime(n):\n",
    "    if n == 1:\n",
    "        return False\n",
    "    elif n == 2:\n",
    "        return True\n",
    "    else:\n",
    "        for i in range(2,n):\n",
    "            if n%i == 0:\n",
    "                return False\n",
    "        return True\n",
    "        \n",
    "prime(5)"
   ]
  },
  {
   "cell_type": "code",
   "execution_count": 60,
   "metadata": {},
   "outputs": [
    {
     "data": {
      "text/plain": [
       "19"
      ]
     },
     "execution_count": 60,
     "metadata": {},
     "output_type": "execute_result"
    }
   ],
   "source": [
    "#5.37\n",
    "def mssl(lst):\n",
    "    max = 0\n",
    "    for i in range(0,len(lst)):\n",
    "        for j in range(i+1,len(lst)+1):\n",
    "            if sum(lst[i:j]) > max:\n",
    "                max = sum(lst[i:j])\n",
    "    return max\n",
    "    if max < 0:\n",
    "        return max\n",
    "mssl( [4, -2, -8, 5, -2, 7, 7, 2, -6, 5])"
   ]
  },
  {
   "cell_type": "code",
   "execution_count": 63,
   "metadata": {},
   "outputs": [
    {
     "name": "stdout",
     "output_type": "stream",
     "text": [
      "5\n",
      "16\n",
      "8\n",
      "4\n",
      "2\n",
      "1\n"
     ]
    }
   ],
   "source": [
    "#5.38\n",
    "def collatz(n):\n",
    "    while n != 1:\n",
    "        if n % 2 == 0:\n",
    "            n = n/2\n",
    "        else:\n",
    "            n = 3*n+1\n",
    "        print(int(n))\n",
    "collatz(10)"
   ]
  },
  {
   "cell_type": "code",
   "execution_count": 69,
   "metadata": {},
   "outputs": [
    {
     "data": {
      "text/plain": [
       "'aaaargh!'"
      ]
     },
     "execution_count": 69,
     "metadata": {},
     "output_type": "execute_result"
    }
   ],
   "source": [
    "#5.39\n",
    "def exclamation(string):\n",
    "    answer = ''\n",
    "    for i in string:\n",
    "        if i in 'aeiouAEIOU':\n",
    "            answer += 4*i\n",
    "        else:\n",
    "            answer += i\n",
    "    answer += '!'\n",
    "    return answer\n",
    "exclamation('argh')"
   ]
  },
  {
   "cell_type": "code",
   "execution_count": 71,
   "metadata": {},
   "outputs": [],
   "source": [
    "#5.40"
   ]
  },
  {
   "cell_type": "code",
   "execution_count": 72,
   "metadata": {},
   "outputs": [],
   "source": [
    "#5.41"
   ]
  },
  {
   "cell_type": "code",
   "execution_count": null,
   "metadata": {},
   "outputs": [],
   "source": []
  }
 ],
 "metadata": {
  "kernelspec": {
   "display_name": "Python 3",
   "language": "python",
   "name": "python3"
  },
  "language_info": {
   "codemirror_mode": {
    "name": "ipython",
    "version": 3
   },
   "file_extension": ".py",
   "mimetype": "text/x-python",
   "name": "python",
   "nbconvert_exporter": "python",
   "pygments_lexer": "ipython3",
   "version": "3.7.3"
  }
 },
 "nbformat": 4,
 "nbformat_minor": 2
}
